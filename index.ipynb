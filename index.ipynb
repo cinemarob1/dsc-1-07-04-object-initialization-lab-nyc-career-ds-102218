{
 "cells": [
  {
   "cell_type": "markdown",
   "metadata": {},
   "source": [
    "# Object Initialization - Lab"
   ]
  },
  {
   "cell_type": "markdown",
   "metadata": {},
   "source": [
    "## Introduction\n",
    "In this lab, we will practice defining classes with custom `__init__` methods. We will define two classes, Driver in the cells below. Follow the instructions in order to get the tests to pass."
   ]
  },
  {
   "cell_type": "markdown",
   "metadata": {},
   "source": [
    "## Objectives\n",
    "\n",
    "You will be able to:\n",
    "\n",
    "* Define custom `__init__` methods for object initialization\n",
    "* Create instance variables in the `__init__` method \n",
    "* Use default arguments in the `__init__` method"
   ]
  },
  {
   "cell_type": "markdown",
   "metadata": {},
   "source": [
    "## Initializing Instance Objects"
   ]
  },
  {
   "cell_type": "markdown",
   "metadata": {},
   "source": [
    "Let's start off by defining Driver and Passenger classes. In the Passenger class, we will want our passengers to have the attributes `first`, `last`, `email`, and `rides_taken` for their first name, last name, email, and number of rides they have taken. Let's provide our `__init__` method with the default argument of `0` for the `rides_taken` attribute since new passengers should not have taken any rides. \n",
    "\n",
    "After we've defined our Passenger `__init__` method, check it out by initializing a new passenger with the first name `\"Rebecca\"`, the last name `\"Black\"`, and the email `\"rebecca.black@gmail.com\"`. Don't worry about creating instance methods or using any attribute decorators in this lesson. We can just instantiate instance variables and use those to access the instance's attributes."
   ]
  },
  {
   "cell_type": "code",
   "execution_count": 36,
   "metadata": {},
   "outputs": [
    {
     "data": {
      "text/plain": [
       "{'_first': 'Kathy',\n",
       " '_last': 'Burns',\n",
       " '_email': 'kathyb@merp.com',\n",
       " '_rides_taken': 0}"
      ]
     },
     "execution_count": 36,
     "metadata": {},
     "output_type": "execute_result"
    }
   ],
   "source": [
    "class Passenger:\n",
    "    \n",
    "    def __init__(self,first,last,email,rides_taken = 0):\n",
    "        self._first = first\n",
    "        self._last = last\n",
    "        self._email = email\n",
    "        self._rides_taken = rides_taken\n",
    "        \n",
    "    def get_passenger_first(self):\n",
    "        return self._first\n",
    "        \n",
    "    def set_passenger_first(self, first):\n",
    "        self._first = first\n",
    "        pass\n",
    "    \n",
    "    first = property(get_passenger_first, set_passenger_first)\n",
    "    \n",
    "    def get_passenger_last(self):\n",
    "        return self._last\n",
    "    \n",
    "    def set_passenger_last(self, last):\n",
    "        self._last = last\n",
    "        pass\n",
    "    \n",
    "    last = property(get_passenger_last, set_passenger_last)\n",
    "    \n",
    "    def get_passenger_email(self):\n",
    "        return self._email\n",
    "    \n",
    "    def set_passenger_email(self, email):\n",
    "        self._email = email\n",
    "        pass\n",
    "    \n",
    "    email = property(get_passenger_email, set_passenger_email)\n",
    "    \n",
    "    def get_passenger_rides_taken(self):\n",
    "        return self._rides_taken\n",
    "    \n",
    "    def set_passenger_rides_taken(self, rides_taken):\n",
    "        self._rides_taken = rides_taken\n",
    "        pass\n",
    "    \n",
    "    rides_taken = property(get_passenger_rides_taken, set_passenger_rides_taken)\n",
    "\n",
    "# class Driver:\n",
    "\n",
    "kathy = Passenger(\"Kathy\",\"Burns\",\"kathyb@merp.com\")\n",
    "# kathy.first = \"Carol\"\n",
    "# kathy.email\n",
    "vars(kathy)"
   ]
  },
  {
   "cell_type": "code",
   "execution_count": 37,
   "metadata": {},
   "outputs": [
    {
     "name": "stdout",
     "output_type": "stream",
     "text": [
      "Rebecca\n",
      "Black\n",
      "rebecca.black@gmail.com\n",
      "0\n"
     ]
    }
   ],
   "source": [
    "rebecca_black = Passenger(\"Rebecca\", \"Black\", \"rebecca.black@gmail.com\") # initialize Rebecca Black here\n",
    "print(rebecca_black.first) # \"Rebecca\"\n",
    "print(rebecca_black.last) # \"Black\"\n",
    "print(rebecca_black.email) # \"rebecca.black@gmail.com\"\n",
    "print(rebecca_black.rides_taken) # 0"
   ]
  },
  {
   "cell_type": "markdown",
   "metadata": {},
   "source": [
    "![rebecca black in a car](https://media.giphy.com/media/8SS0MSoBHa8la/giphy.gif)"
   ]
  },
  {
   "cell_type": "markdown",
   "metadata": {},
   "source": [
    "Great work! Rebecca Black is now in the system and ready to request her ride to the party on Friday! Friday! Friday!"
   ]
  },
  {
   "cell_type": "markdown",
   "metadata": {},
   "source": [
    "In the Driver class, define an `__init__` method that initializes a driver with the attributes `first`, `last`, and `favorite_hobby` for their first name, last name, and favorite hobby. Let's provide a default argument of `\"driving\"` for `favorite_hobby`, since we would hope they are ***doing what they love***! \n",
    "\n",
    "After we have our Driver `__init__` method, let's initialize a driver with the first name `\"Dale\"`, last name `\"Earnhardt\"`. Again, don't worry about creating any instance methods or using any property decorators."
   ]
  },
  {
   "cell_type": "code",
   "execution_count": 39,
   "metadata": {},
   "outputs": [],
   "source": [
    "# Define Driver Class Here\n",
    "\n",
    "class Driver:\n",
    "    \n",
    "    def __init__(self,first,last,favorite_hobby = \"driving\"):\n",
    "        self._first = first\n",
    "        self._last = last\n",
    "        self._favorite_hobby = favorite_hobby\n",
    "        \n",
    "    def get_driver_first(self):\n",
    "        return self._first\n",
    "        \n",
    "    def set_driver_first(self, first):\n",
    "        self._first = first\n",
    "        pass\n",
    "    \n",
    "    first = property(get_driver_first, set_driver_first)\n",
    "    \n",
    "    def get_driver_last(self):\n",
    "        return self._last\n",
    "        \n",
    "    def set_driver_last(self, last):\n",
    "        self._last = last\n",
    "        pass\n",
    "    \n",
    "    last = property(get_driver_last, set_driver_last)\n",
    "    \n",
    "    def get_driver_favorite_hobby(self):\n",
    "        return self._favorite_hobby\n",
    "        \n",
    "    def set_driver_favorite_hobby(self, favorite_hobby):\n",
    "        self._favorite_hobby = favorite_hobby\n",
    "        pass\n",
    "    \n",
    "    favorite_hobby = property(get_driver_favorite_hobby, set_driver_favorite_hobby)"
   ]
  },
  {
   "cell_type": "code",
   "execution_count": 42,
   "metadata": {
    "scrolled": true
   },
   "outputs": [
    {
     "name": "stdout",
     "output_type": "stream",
     "text": [
      "Dale\n",
      "Earnhardt\n",
      "driving\n"
     ]
    }
   ],
   "source": [
    "dale_earnhardt = Driver(\"Dale\",\"Earnhardt\") # initialize Dale Earnhardt here\n",
    "print(dale_earnhardt.first) # \"Dale\"\n",
    "print(dale_earnhardt.last) # \"Earnhardt\"\n",
    "print(dale_earnhardt.favorite_hobby) # \"driving\""
   ]
  },
  {
   "cell_type": "markdown",
   "metadata": {},
   "source": [
    "![DaleEarnhardt](https://media.giphy.com/media/3ohzdSGBkwbvuPdO3S/giphy.gif)"
   ]
  },
  {
   "cell_type": "markdown",
   "metadata": {},
   "source": [
    "Awesome, maybe Dale will be Rebecca's driver to the party on Friday! Friday! Friday! "
   ]
  },
  {
   "cell_type": "markdown",
   "metadata": {},
   "source": [
    "## Summary\n"
   ]
  },
  {
   "cell_type": "markdown",
   "metadata": {},
   "source": [
    "In this lab, we practiced definining custom `__init__` methods that allowed us to initialize new instances with a set of predetermined attributes and default attributes."
   ]
  }
 ],
 "metadata": {
  "kernelspec": {
   "display_name": "Python 3",
   "language": "python",
   "name": "python3"
  },
  "language_info": {
   "codemirror_mode": {
    "name": "ipython",
    "version": 3
   },
   "file_extension": ".py",
   "mimetype": "text/x-python",
   "name": "python",
   "nbconvert_exporter": "python",
   "pygments_lexer": "ipython3",
   "version": "3.7.0"
  }
 },
 "nbformat": 4,
 "nbformat_minor": 2
}
